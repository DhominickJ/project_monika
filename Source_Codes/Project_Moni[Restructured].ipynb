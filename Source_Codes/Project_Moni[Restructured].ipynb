{
 "cells": [
  {
   "cell_type": "markdown",
   "metadata": {},
   "source": [
    "# Word Reparser"
   ]
  },
  {
   "cell_type": "code",
   "execution_count": 1,
   "metadata": {},
   "outputs": [
    {
     "name": "stdout",
     "output_type": "stream",
     "text": [
      "h for Happy\n",
      "s for Sad\n",
      "a for Angering\n",
      "n for Neutral\n",
      "f for Frightening\n"
     ]
    }
   ],
   "source": [
    "import json\n",
    "\n",
    "with open('positive-words.txt', 'r') as file_read:\n",
    "    content = file_read.read()\n",
    "\n",
    "positive_words = content.split('\\n')\n",
    "\n",
    "def emotion_driven(emotion):\n",
    "    match emotion:\n",
    "        case 'h':\n",
    "            return 'Happy'\n",
    "        case 's':\n",
    "            return 'Sad'\n",
    "        case 'a':\n",
    "            return 'Angering'\n",
    "        case 'n':\n",
    "            return 'Neutral'\n",
    "        case 'f':\n",
    "            return 'Frightening'\n",
    "\n",
    "def ListEmotions():\n",
    "    emotion_list = ['Happy', 'Sad', 'Angering', 'Neutral', 'Frightening']\n",
    "    for emotion in emotion_list:\n",
    "        emotion_key = emotion[0].lower()\n",
    "        print(f\"{emotion_key} for {emotion}\")\n",
    "\n",
    "ListEmotions()\n",
    "happy_word_list = []\n",
    "sad_word_list = []\n",
    "angering_word_list = []\n",
    "neutral_word_list = []\n",
    "frightening_word_list = []\n",
    "\n",
    "for word in positive_words:\n",
    "    emotion = input(f\"Enter the emotion of the word {word}: \")\n",
    "    word_weight = int(input(f\"Enter the weight of the word {word}: \"))\n",
    "    emotion_incited = emotion_driven(emotion)\n",
    "    dictionary = {word : {'starting_letter': word[0], \n",
    "                    'word': word, \n",
    "                    'length': len(word), \n",
    "                    'user_weighted': word_weight, \n",
    "                    'emotion': emotion_incited}}\n",
    "    match emotion_incited:\n",
    "        case 'Happy':\n",
    "            happy_word_list.append(word)\n",
    "            with open('happy.json', 'a') as file_write:\n",
    "                json.dump(dictionary, file_write, indent=4)\n",
    "                file_write.write(',\\n')\n",
    "        case 'Sad':\n",
    "            sad_word_list.append(word)\n",
    "            with open('sad.json', 'a') as file_write:\n",
    "                json.dump(dictionary, file_write, indent=4)\n",
    "                file_write.write(',\\n')\n",
    "        case 'Angering':\n",
    "            angering_word_list.append(word)\n",
    "            with open('angering.json', 'a') as file_write:\n",
    "                json.dump(dictionary, file_write, indent=4)\n",
    "                file_write.write(',\\n')\n",
    "        case 'Neutral':\n",
    "            neutral_word_list.append(word)\n",
    "            with open('neutral.json', 'a') as file_write:\n",
    "                json.dump(dictionary, file_write, indent=4)\n",
    "                file_write.write(',\\n')\n",
    "        case 'Frightening':\n",
    "            frightening_word_list.append(word)\n",
    "            with open('frightening.json', 'a') as file_write:\n",
    "                json.dump(dictionary, file_write, indent=4)\n",
    "                file_write.write(',\\n')\n",
    "        case _:\n",
    "            print(\"Invalid emotion\")\n",
    "\n",
    "    print(dictionary)\n",
    "\n",
    "\n",
    "\n",
    "\n",
    "\n"
   ]
  }
 ],
 "metadata": {
  "kernelspec": {
   "display_name": "Python 3",
   "language": "python",
   "name": "python3"
  },
  "language_info": {
   "codemirror_mode": {
    "name": "ipython",
    "version": 3
   },
   "file_extension": ".py",
   "mimetype": "text/x-python",
   "name": "python",
   "nbconvert_exporter": "python",
   "pygments_lexer": "ipython3",
   "version": "3.11.4"
  }
 },
 "nbformat": 4,
 "nbformat_minor": 2
}
