{
 "cells": [
  {
   "cell_type": "markdown",
   "metadata": {},
   "source": [
    "### Scratch Pad:\n",
    "    - Ideas about hor+ we are to distinguish between the different forms of how it should be processed.\n",
    "    - Classification \n",
    "    - Json Key Analyzer\n",
    "    - "
   ]
  },
  {
   "cell_type": "code",
   "execution_count": 10,
   "metadata": {},
   "outputs": [],
   "source": [
    "#Creating a dictironary in order to use it and optimize the searching process by using the first letter of the word as a key\n",
    "import json\n",
    "\n",
    "# Open the .txt file and read its content\n",
    "with open('positive-words.txt', 'r') as f:\n",
    "    content = f.read()\n",
    "\n",
    "# Split the content into words\n",
    "words = content.split()\n",
    "\n",
    "# Create a dictionary where the key is the first letter of each word and the value is the word itself\n",
    "with open('positive.json', 'r+') as f:\n",
    "    dictionary = {word: word[0] for word in words}\n",
    "    json.dump(dictionary, f, indent=4)\n",
    "\n",
    "# Create a reparser for the dictionary by changing the keys and values\n",
    "# Learned that we cannot really create a repetitive key for a value that is not referenceable\n",
    "# with open('positive.json', 'r') as f:\n",
    "#     words = open(f)\n",
    "#     print(words)\n",
    "#     dictionary = {value: key for key, value in words.items()}\n",
    "# with open('fixed_positive.json', 'r+') as f:\n",
    "#     json.dump(dictionary, f, indent=4)"
   ]
  },
  {
   "cell_type": "code",
   "execution_count": 11,
   "metadata": {},
   "outputs": [],
   "source": [
    "# function to add to JSON\n",
    "def write_json(new_data, filename):\n",
    "    with open(filename,'r+') as file:\n",
    "          # First we load existing data into a dict.\n",
    "        file_data = json.load(file)\n",
    "        # Join new_data with file_data inside emp_details\n",
    "        file_data[\"emp_details\"].append(new_data)\n",
    "        # Sets file's current position at offset.\n",
    "        file.seek(0)\n",
    "        # convert back to json.\n",
    "        json.dump(file_data, file, indent = 4)"
   ]
  },
  {
   "cell_type": "code",
   "execution_count": 12,
   "metadata": {},
   "outputs": [
    {
     "name": "stdout",
     "output_type": "stream",
     "text": [
      "Mood of the Words:\n",
      "(H)appy, (S)ad, (N)eutral, (F)rightening, (B)oring\n",
      "Error: File doesn't read or exist\n",
      "Error: File doesn't read or exist\n",
      "Error: File doesn't read or exist\n",
      "Error: File doesn't read or exist\n"
     ]
    }
   ],
   "source": [
    "with open('positive.json', 'r') as dict_read:\n",
    "    dictionary = json.load(dict_read)\n",
    "\n",
    "# for key, value in dictionary.items():\n",
    "#     print(value, key)\n",
    "    # print(dictionary)\n",
    "\n",
    "# Create a file reference system for making the user define how does the word mean to them by giving the words weight\n",
    "print(f'Mood of the Words:')\n",
    "print('(H)appy, (S)ad, (N)eutral, (F)rightening, (B)oring')\n",
    "# file_checker = {}\n",
    "# Creating a file checker in order to avoid errors\n",
    "\n",
    "with open('sad.json', 'r+') as sad_words:\n",
    "    try:\n",
    "        json.load(sad_words)\n",
    "    except:\n",
    "        print('Error: File doesn\\'t read or exist')\n",
    "with open('neutral.json', 'r+') as neutral_words:\n",
    "    try:\n",
    "        json.load(neutral_words)\n",
    "    except:\n",
    "        print('Error: File doesn\\'t read or exist')\n",
    "with open('frightening.json', 'r+') as frightening_words:\n",
    "    try:\n",
    "        json.load(frightening_words)\n",
    "    except:\n",
    "        print('Error: File doesn\\'t read or exist')\n",
    "with open('boring.json', 'r+') as boring_words:\n",
    "    try:\n",
    "        json.load(boring_words)\n",
    "    except:\n",
    "        print('Error: File doesn\\'t read or exist')\n",
    "\n"
   ]
  },
  {
   "cell_type": "code",
   "execution_count": 13,
   "metadata": {},
   "outputs": [
    {
     "name": "stdout",
     "output_type": "stream",
     "text": [
      "Error: File doesn't read or exist\n",
      "Happy\n"
     ]
    },
    {
     "ename": "JSONDecodeError",
     "evalue": "Expecting value: line 1 column 1 (char 0)",
     "output_type": "error",
     "traceback": [
      "\u001b[1;31m---------------------------------------------------------------------------\u001b[0m",
      "\u001b[1;31mJSONDecodeError\u001b[0m                           Traceback (most recent call last)",
      "\u001b[1;32md:\\Important_Tasks\\CCS226 - Introduction to Artificial Intelligence\\Project_Monika\\Source_Codes\\Project_Moni.ipynb Cell 5\u001b[0m line \u001b[0;36m1\n\u001b[0;32m     <a href='vscode-notebook-cell:/d%3A/Important_Tasks/CCS226%20-%20Introduction%20to%20Artificial%20Intelligence/Project_Monika/Source_Codes/Project_Moni.ipynb#W4sZmlsZQ%3D%3D?line=13'>14</a>\u001b[0m         \u001b[39mprint\u001b[39m(\u001b[39m'\u001b[39m\u001b[39mHappy\u001b[39m\u001b[39m'\u001b[39m)\n\u001b[0;32m     <a href='vscode-notebook-cell:/d%3A/Important_Tasks/CCS226%20-%20Introduction%20to%20Artificial%20Intelligence/Project_Monika/Source_Codes/Project_Moni.ipynb#W4sZmlsZQ%3D%3D?line=14'>15</a>\u001b[0m         happy_word \u001b[39m=\u001b[39m {key: weight_words}\n\u001b[1;32m---> <a href='vscode-notebook-cell:/d%3A/Important_Tasks/CCS226%20-%20Introduction%20to%20Artificial%20Intelligence/Project_Monika/Source_Codes/Project_Moni.ipynb#W4sZmlsZQ%3D%3D?line=15'>16</a>\u001b[0m         happy_wordings \u001b[39m=\u001b[39m json\u001b[39m.\u001b[39;49mload(happy_words)\n\u001b[0;32m     <a href='vscode-notebook-cell:/d%3A/Important_Tasks/CCS226%20-%20Introduction%20to%20Artificial%20Intelligence/Project_Monika/Source_Codes/Project_Moni.ipynb#W4sZmlsZQ%3D%3D?line=16'>17</a>\u001b[0m         temp_dict\u001b[39m.\u001b[39mappend(happy_word)\n\u001b[0;32m     <a href='vscode-notebook-cell:/d%3A/Important_Tasks/CCS226%20-%20Introduction%20to%20Artificial%20Intelligence/Project_Monika/Source_Codes/Project_Moni.ipynb#W4sZmlsZQ%3D%3D?line=17'>18</a>\u001b[0m \u001b[39mcase\u001b[39;00m \u001b[39m'\u001b[39m\u001b[39ms\u001b[39m\u001b[39m'\u001b[39m:\n",
      "File \u001b[1;32mc:\\Program Files\\Python311\\Lib\\json\\__init__.py:293\u001b[0m, in \u001b[0;36mload\u001b[1;34m(fp, cls, object_hook, parse_float, parse_int, parse_constant, object_pairs_hook, **kw)\u001b[0m\n\u001b[0;32m    274\u001b[0m \u001b[39mdef\u001b[39;00m \u001b[39mload\u001b[39m(fp, \u001b[39m*\u001b[39m, \u001b[39mcls\u001b[39m\u001b[39m=\u001b[39m\u001b[39mNone\u001b[39;00m, object_hook\u001b[39m=\u001b[39m\u001b[39mNone\u001b[39;00m, parse_float\u001b[39m=\u001b[39m\u001b[39mNone\u001b[39;00m,\n\u001b[0;32m    275\u001b[0m         parse_int\u001b[39m=\u001b[39m\u001b[39mNone\u001b[39;00m, parse_constant\u001b[39m=\u001b[39m\u001b[39mNone\u001b[39;00m, object_pairs_hook\u001b[39m=\u001b[39m\u001b[39mNone\u001b[39;00m, \u001b[39m*\u001b[39m\u001b[39m*\u001b[39mkw):\n\u001b[0;32m    276\u001b[0m \u001b[39m    \u001b[39m\u001b[39m\"\"\"Deserialize ``fp`` (a ``.read()``-supporting file-like object containing\u001b[39;00m\n\u001b[0;32m    277\u001b[0m \u001b[39m    a JSON document) to a Python object.\u001b[39;00m\n\u001b[0;32m    278\u001b[0m \n\u001b[1;32m   (...)\u001b[0m\n\u001b[0;32m    291\u001b[0m \u001b[39m    kwarg; otherwise ``JSONDecoder`` is used.\u001b[39;00m\n\u001b[0;32m    292\u001b[0m \u001b[39m    \"\"\"\u001b[39;00m\n\u001b[1;32m--> 293\u001b[0m     \u001b[39mreturn\u001b[39;00m loads(fp\u001b[39m.\u001b[39;49mread(),\n\u001b[0;32m    294\u001b[0m         \u001b[39mcls\u001b[39;49m\u001b[39m=\u001b[39;49m\u001b[39mcls\u001b[39;49m, object_hook\u001b[39m=\u001b[39;49mobject_hook,\n\u001b[0;32m    295\u001b[0m         parse_float\u001b[39m=\u001b[39;49mparse_float, parse_int\u001b[39m=\u001b[39;49mparse_int,\n\u001b[0;32m    296\u001b[0m         parse_constant\u001b[39m=\u001b[39;49mparse_constant, object_pairs_hook\u001b[39m=\u001b[39;49mobject_pairs_hook, \u001b[39m*\u001b[39;49m\u001b[39m*\u001b[39;49mkw)\n",
      "File \u001b[1;32mc:\\Program Files\\Python311\\Lib\\json\\__init__.py:346\u001b[0m, in \u001b[0;36mloads\u001b[1;34m(s, cls, object_hook, parse_float, parse_int, parse_constant, object_pairs_hook, **kw)\u001b[0m\n\u001b[0;32m    341\u001b[0m     s \u001b[39m=\u001b[39m s\u001b[39m.\u001b[39mdecode(detect_encoding(s), \u001b[39m'\u001b[39m\u001b[39msurrogatepass\u001b[39m\u001b[39m'\u001b[39m)\n\u001b[0;32m    343\u001b[0m \u001b[39mif\u001b[39;00m (\u001b[39mcls\u001b[39m \u001b[39mis\u001b[39;00m \u001b[39mNone\u001b[39;00m \u001b[39mand\u001b[39;00m object_hook \u001b[39mis\u001b[39;00m \u001b[39mNone\u001b[39;00m \u001b[39mand\u001b[39;00m\n\u001b[0;32m    344\u001b[0m         parse_int \u001b[39mis\u001b[39;00m \u001b[39mNone\u001b[39;00m \u001b[39mand\u001b[39;00m parse_float \u001b[39mis\u001b[39;00m \u001b[39mNone\u001b[39;00m \u001b[39mand\u001b[39;00m\n\u001b[0;32m    345\u001b[0m         parse_constant \u001b[39mis\u001b[39;00m \u001b[39mNone\u001b[39;00m \u001b[39mand\u001b[39;00m object_pairs_hook \u001b[39mis\u001b[39;00m \u001b[39mNone\u001b[39;00m \u001b[39mand\u001b[39;00m \u001b[39mnot\u001b[39;00m kw):\n\u001b[1;32m--> 346\u001b[0m     \u001b[39mreturn\u001b[39;00m _default_decoder\u001b[39m.\u001b[39;49mdecode(s)\n\u001b[0;32m    347\u001b[0m \u001b[39mif\u001b[39;00m \u001b[39mcls\u001b[39m \u001b[39mis\u001b[39;00m \u001b[39mNone\u001b[39;00m:\n\u001b[0;32m    348\u001b[0m     \u001b[39mcls\u001b[39m \u001b[39m=\u001b[39m JSONDecoder\n",
      "File \u001b[1;32mc:\\Program Files\\Python311\\Lib\\json\\decoder.py:337\u001b[0m, in \u001b[0;36mJSONDecoder.decode\u001b[1;34m(self, s, _w)\u001b[0m\n\u001b[0;32m    332\u001b[0m \u001b[39mdef\u001b[39;00m \u001b[39mdecode\u001b[39m(\u001b[39mself\u001b[39m, s, _w\u001b[39m=\u001b[39mWHITESPACE\u001b[39m.\u001b[39mmatch):\n\u001b[0;32m    333\u001b[0m \u001b[39m    \u001b[39m\u001b[39m\"\"\"Return the Python representation of ``s`` (a ``str`` instance\u001b[39;00m\n\u001b[0;32m    334\u001b[0m \u001b[39m    containing a JSON document).\u001b[39;00m\n\u001b[0;32m    335\u001b[0m \n\u001b[0;32m    336\u001b[0m \u001b[39m    \"\"\"\u001b[39;00m\n\u001b[1;32m--> 337\u001b[0m     obj, end \u001b[39m=\u001b[39m \u001b[39mself\u001b[39;49m\u001b[39m.\u001b[39;49mraw_decode(s, idx\u001b[39m=\u001b[39;49m_w(s, \u001b[39m0\u001b[39;49m)\u001b[39m.\u001b[39;49mend())\n\u001b[0;32m    338\u001b[0m     end \u001b[39m=\u001b[39m _w(s, end)\u001b[39m.\u001b[39mend()\n\u001b[0;32m    339\u001b[0m     \u001b[39mif\u001b[39;00m end \u001b[39m!=\u001b[39m \u001b[39mlen\u001b[39m(s):\n",
      "File \u001b[1;32mc:\\Program Files\\Python311\\Lib\\json\\decoder.py:355\u001b[0m, in \u001b[0;36mJSONDecoder.raw_decode\u001b[1;34m(self, s, idx)\u001b[0m\n\u001b[0;32m    353\u001b[0m     obj, end \u001b[39m=\u001b[39m \u001b[39mself\u001b[39m\u001b[39m.\u001b[39mscan_once(s, idx)\n\u001b[0;32m    354\u001b[0m \u001b[39mexcept\u001b[39;00m \u001b[39mStopIteration\u001b[39;00m \u001b[39mas\u001b[39;00m err:\n\u001b[1;32m--> 355\u001b[0m     \u001b[39mraise\u001b[39;00m JSONDecodeError(\u001b[39m\"\u001b[39m\u001b[39mExpecting value\u001b[39m\u001b[39m\"\u001b[39m, s, err\u001b[39m.\u001b[39mvalue) \u001b[39mfrom\u001b[39;00m \u001b[39mNone\u001b[39m\n\u001b[0;32m    356\u001b[0m \u001b[39mreturn\u001b[39;00m obj, end\n",
      "\u001b[1;31mJSONDecodeError\u001b[0m: Expecting value: line 1 column 1 (char 0)"
     ]
    }
   ],
   "source": [
    "# Json Updater\n",
    "with open('positive.json', 'r+') as postive_weights:\n",
    "    temp_dict = []\n",
    "    for key, starting_letter in dictionary.items():\n",
    "        value = input(f'How does the word {key} mean to you? ')\n",
    "        weight_words = int(input(f'Please define how does the word {key} mean to you by giving it a weight from 1 to 5: '))\n",
    "        match value:\n",
    "            case 'h':\n",
    "                with open('happy.json', 'r+') as happy_words:\n",
    "                    try:\n",
    "                        json.load(happy_words)\n",
    "                    except:\n",
    "                        print('Error: File doesn\\'t read or exist')\n",
    "                    print('Happy')\n",
    "                    happy_word = {key: weight_words}\n",
    "                    happy_wordings = json.load(happy_words)\n",
    "                    temp_dict.append(happy_word)\n",
    "            case 's':\n",
    "                print('Sad')\n",
    "            case 'n':\n",
    "                print('Neutral')\n",
    "            case 'f':\n",
    "                print('frightening')\n",
    "            case 'b':\n",
    "                print('Boring')\n",
    "            case 'e':\n",
    "                break\n",
    "    json.dump(happy_wordings, happy_words, indent=4)\n"
   ]
  },
  {
   "cell_type": "code",
   "execution_count": null,
   "metadata": {},
   "outputs": [],
   "source": []
  }
 ],
 "metadata": {
  "kernelspec": {
   "display_name": "Python 3",
   "language": "python",
   "name": "python3"
  },
  "language_info": {
   "codemirror_mode": {
    "name": "ipython",
    "version": 3
   },
   "file_extension": ".py",
   "mimetype": "text/x-python",
   "name": "python",
   "nbconvert_exporter": "python",
   "pygments_lexer": "ipython3",
   "version": "3.11.4"
  }
 },
 "nbformat": 4,
 "nbformat_minor": 2
}
