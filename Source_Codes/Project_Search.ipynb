{
 "cells": [
  {
   "cell_type": "markdown",
   "metadata": {},
   "source": []
  },
  {
   "cell_type": "code",
   "execution_count": null,
   "metadata": {},
   "outputs": [],
   "source": [
    "def binary_search(list_num , to_search):\n",
    "    first_index = 0\n",
    "    size = len(list_num)\n",
    "    # if size % 2 == 1:\n",
    "    #     size += 1\n",
    "    last_index = size - 1\n",
    "    mid_index = (first_index + last_index) // 2\n",
    "    mid_element = list_num[mid_index]\n",
    "    is_found = False\n",
    "    while !is_found:\n",
    "        print(list_num[mid_index])\n",
    "        if first_index == last_index:\n",
    "            if mid_element != to_search:\n",
    "                is_found = False\n",
    "                return \" Does not appear in the list\"\n",
    "        elif mid_element == to_search:\n",
    "            return f\"{mid_element} occurs in position {mid_index}\"\n",
    "        elif mid_element > to_search:\n",
    "            new_position = mid_index - 1\n",
    "            last_index = new_position\n",
    "            mid_index = (first_index + last_index) // 2\n",
    "            mid_element = list_num[mid_index]\n",
    "            if mid_element == to_search:\n",
    "                return f\"{mid_element} occurs in position {mid_index}\"\n",
    "        elif mid_element < to_search:\n",
    "            new_position = mid_index + 1\n",
    "            first_index = new_position\n",
    "            last_index = size - 1\n",
    "            mid_index = (first_index + last_index) // 2\n",
    "            mid_element = list_num[mid_index]\n",
    "            if mid_element == to_search:\n",
    "                return f\"{mid_element} occurs in position {mid_index}\"\n"
   ]
  },
  {
   "cell_type": "code",
   "execution_count": null,
   "metadata": {},
   "outputs": [],
   "source": []
  },
  {
   "cell_type": "code",
   "execution_count": null,
   "metadata": {},
   "outputs": [],
   "source": [
    "with open('positive-words.txt', 'r') as positive_words:\n",
    "    positive = positive_words.read().split()\n",
    "\n",
    "print(positive)"
   ]
  },
  {
   "cell_type": "code",
   "execution_count": null,
   "metadata": {},
   "outputs": [],
   "source": [
    "def initial_word_filter(word_list, word_to_search):\n",
    "    filtered_word_list = []\n",
    "    initial_word_to_search = word_to_search[0]\n",
    "    for word in word_list:\n",
    "        if word[0] == word_to_search[0] and word[1] == word_to_search[1]:\n",
    "            filtered_word_list.append(word)\n",
    "    \n",
    "    return filtered_word_list"
   ]
  },
  {
   "cell_type": "code",
   "execution_count": null,
   "metadata": {},
   "outputs": [],
   "source": [
    "word_list = initial_word_filter(positive, 'benelovent')\n",
    "print(word_list)\n",
    "# print(binary_search(word_list, 'benelovent'))\n",
    "print(len(word_list))\n",
    "print(binary_search(word_list, 'benelovent'))"
   ]
  }
 ],
 "metadata": {
  "kernelspec": {
   "display_name": "Python 3",
   "language": "python",
   "name": "python3"
  },
  "language_info": {
   "codemirror_mode": {
    "name": "ipython",
    "version": 3
   },
   "file_extension": ".py",
   "mimetype": "text/x-python",
   "name": "python",
   "nbconvert_exporter": "python",
   "pygments_lexer": "ipython3",
   "version": "3.11.4"
  }
 },
 "nbformat": 4,
 "nbformat_minor": 2
}
