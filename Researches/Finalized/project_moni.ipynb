{
 "cells": [
  {
   "cell_type": "code",
   "execution_count": 4,
   "metadata": {},
   "outputs": [],
   "source": [
    "###Scatch Pad:\n",
    "#Determine the Context of the Text using a set of words"
   ]
  },
  {
   "cell_type": "markdown",
   "metadata": {},
   "source": [
    "Hello\n",
    "# Scratch Pad: Where my Ideas Comes Here\n",
    "### Determine the Context of the Text using a Probability Model of the words from 3 datasets that matches with the set of the words in that file.\n",
    "### Based on the probability model, create a clustered algorithm that searches for the words that matches the words from the file and structure them based on how much words are part of the happy, sad, feelings, etc.\n",
    "### Create a clustering algorithm that shows how inclined is the text's feelings and pop the most active feeling above them.\n",
    "### Determine the scope of this algorithm."
   ]
  },
  {
   "cell_type": "markdown",
   "metadata": {},
   "source": []
  }
 ],
 "metadata": {
  "kernelspec": {
   "display_name": "Python 3",
   "language": "python",
   "name": "python3"
  },
  "language_info": {
   "codemirror_mode": {
    "name": "ipython",
    "version": 3
   },
   "file_extension": ".py",
   "mimetype": "text/x-python",
   "name": "python",
   "nbconvert_exporter": "python",
   "pygments_lexer": "ipython3",
   "version": "3.11.1"
  }
 },
 "nbformat": 4,
 "nbformat_minor": 2
}
