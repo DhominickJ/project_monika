{
 "cells": [
  {
   "cell_type": "code",
   "execution_count": 4,
   "metadata": {},
   "outputs": [],
   "source": [
    "# from jena import rdflib\n",
    "# from rdflib import Graph\n",
    "\n",
    "# # Load the ontology\n",
    "# g = Graph()\n",
    "# # g.parse(\"ontology.rdf\")\n",
    "# with open('joy.txt', 'r') as file_read:\n",
    "#     content = file_read.read()\n",
    "\n",
    "# positive_words = content.split('\\n')\n",
    "\n",
    "# freq = {}\n",
    "# depth = {}\n",
    "\n",
    "# # Calculate frequencies and depths\n",
    "# for s, p, o in g:\n",
    "#     if s not in freq:\n",
    "#         freq[s] = 0\n",
    "#     freq[s] += 1\n",
    "\n",
    "#     if s not in depth:\n",
    "#         depth[s] = 0\n",
    "#     depth[s] += len(list(g.ancestors(s)))\n",
    "\n",
    "# # Calculate scores\n",
    "# scores = {}\n",
    "# for node in freq.keys():\n",
    "#     scores[node] = freq[node] / depth[node]\n",
    "#     for parent in g.ancestors(node):\n",
    "#         if parent not in scores:\n",
    "#             scores[parent] = 0\n",
    "#         scores[parent] += scores[node]\n",
    "\n",
    "# # Find the emotion class\n",
    "# emotion_class = max(scores, key=scores.get)\n",
    "\n"
   ]
  },
  {
   "cell_type": "code",
   "execution_count": 5,
   "metadata": {},
   "outputs": [],
   "source": [
    "# depth = \n",
    "\n",
    "# def calculate_scores(nodes, freq, depth):\n",
    "#     scores = [0] * len(nodes)\n",
    "#     for i in range(len(nodes)):\n",
    "#         scores[i] = freq[i] / depth[i]\n",
    "#         for j in range(len(nodes[i].parents)):\n",
    "#             scores[nodes[i].parents[j]] += scores[i]\n",
    "#     return scores\n",
    "\n",
    "# def get_emotion_class(nodes, scores):\n",
    "#     max_score = max(scores)\n",
    "#     emotion_class = scores.index(max_score)\n",
    "#     return emotion_class"
   ]
  },
  {
   "cell_type": "code",
   "execution_count": 6,
   "metadata": {},
   "outputs": [],
   "source": [
    "# scores = calculate_scores(nodes, freq, depth)\n",
    "# emotion_class = get_emotion_class(nodes, scores)"
   ]
  },
  {
   "cell_type": "code",
   "execution_count": 7,
   "metadata": {},
   "outputs": [
    {
     "ename": "LookupError",
     "evalue": "\n**********************************************************************\n  Resource \u001b[93mwordnet\u001b[0m not found.\n  Please use the NLTK Downloader to obtain the resource:\n\n  \u001b[31m>>> import nltk\n  >>> nltk.download('wordnet')\n  \u001b[0m\n  For more information see: https://www.nltk.org/data.html\n\n  Attempted to load \u001b[93mcorpora/wordnet\u001b[0m\n\n  Searched in:\n    - 'C:\\\\Users\\\\sycro/nltk_data'\n    - 'c:\\\\Program Files\\\\Python311\\\\nltk_data'\n    - 'c:\\\\Program Files\\\\Python311\\\\share\\\\nltk_data'\n    - 'c:\\\\Program Files\\\\Python311\\\\lib\\\\nltk_data'\n    - 'C:\\\\Users\\\\sycro\\\\AppData\\\\Roaming\\\\nltk_data'\n    - 'C:\\\\nltk_data'\n    - 'D:\\\\nltk_data'\n    - 'E:\\\\nltk_data'\n**********************************************************************\n",
     "output_type": "error",
     "traceback": [
      "\u001b[1;31m---------------------------------------------------------------------------\u001b[0m",
      "\u001b[1;31mLookupError\u001b[0m                               Traceback (most recent call last)",
      "File \u001b[1;32m~\\AppData\\Roaming\\Python\\Python311\\site-packages\\nltk\\corpus\\util.py:84\u001b[0m, in \u001b[0;36mLazyCorpusLoader.__load\u001b[1;34m(self)\u001b[0m\n\u001b[0;32m     83\u001b[0m \u001b[39mtry\u001b[39;00m:\n\u001b[1;32m---> 84\u001b[0m     root \u001b[39m=\u001b[39m nltk\u001b[39m.\u001b[39;49mdata\u001b[39m.\u001b[39;49mfind(\u001b[39mf\u001b[39;49m\u001b[39m\"\u001b[39;49m\u001b[39m{\u001b[39;49;00m\u001b[39mself\u001b[39;49m\u001b[39m.\u001b[39;49msubdir\u001b[39m}\u001b[39;49;00m\u001b[39m/\u001b[39;49m\u001b[39m{\u001b[39;49;00mzip_name\u001b[39m}\u001b[39;49;00m\u001b[39m\"\u001b[39;49m)\n\u001b[0;32m     85\u001b[0m \u001b[39mexcept\u001b[39;00m \u001b[39mLookupError\u001b[39;00m:\n",
      "File \u001b[1;32m~\\AppData\\Roaming\\Python\\Python311\\site-packages\\nltk\\data.py:583\u001b[0m, in \u001b[0;36mfind\u001b[1;34m(resource_name, paths)\u001b[0m\n\u001b[0;32m    582\u001b[0m resource_not_found \u001b[39m=\u001b[39m \u001b[39mf\u001b[39m\u001b[39m\"\u001b[39m\u001b[39m\\n\u001b[39;00m\u001b[39m{\u001b[39;00msep\u001b[39m}\u001b[39;00m\u001b[39m\\n\u001b[39;00m\u001b[39m{\u001b[39;00mmsg\u001b[39m}\u001b[39;00m\u001b[39m\\n\u001b[39;00m\u001b[39m{\u001b[39;00msep\u001b[39m}\u001b[39;00m\u001b[39m\\n\u001b[39;00m\u001b[39m\"\u001b[39m\n\u001b[1;32m--> 583\u001b[0m \u001b[39mraise\u001b[39;00m \u001b[39mLookupError\u001b[39;00m(resource_not_found)\n",
      "\u001b[1;31mLookupError\u001b[0m: \n**********************************************************************\n  Resource \u001b[93mwordnet\u001b[0m not found.\n  Please use the NLTK Downloader to obtain the resource:\n\n  \u001b[31m>>> import nltk\n  >>> nltk.download('wordnet')\n  \u001b[0m\n  For more information see: https://www.nltk.org/data.html\n\n  Attempted to load \u001b[93mcorpora/wordnet.zip/wordnet/\u001b[0m\n\n  Searched in:\n    - 'C:\\\\Users\\\\sycro/nltk_data'\n    - 'c:\\\\Program Files\\\\Python311\\\\nltk_data'\n    - 'c:\\\\Program Files\\\\Python311\\\\share\\\\nltk_data'\n    - 'c:\\\\Program Files\\\\Python311\\\\lib\\\\nltk_data'\n    - 'C:\\\\Users\\\\sycro\\\\AppData\\\\Roaming\\\\nltk_data'\n    - 'C:\\\\nltk_data'\n    - 'D:\\\\nltk_data'\n    - 'E:\\\\nltk_data'\n**********************************************************************\n",
      "\nDuring handling of the above exception, another exception occurred:\n",
      "\u001b[1;31mLookupError\u001b[0m                               Traceback (most recent call last)",
      "\u001b[1;32md:\\Important_Tasks\\CCS226 - Introduction to Artificial Intelligence\\Project_Monika\\Finalized_Research\\Classification of Different Machine Learning Algorithms\\finalized_code.ipynb Cell 4\u001b[0m line \u001b[0;36m9\n\u001b[0;32m      <a href='vscode-notebook-cell:/d%3A/Important_Tasks/CCS226%20-%20Introduction%20to%20Artificial%20Intelligence/Project_Monika/Finalized_Research/Classification%20of%20Different%20Machine%20Learning%20Algorithms/finalized_code.ipynb#W4sZmlsZQ%3D%3D?line=6'>7</a>\u001b[0m \u001b[39m# Calculate frequencies and depths\u001b[39;00m\n\u001b[0;32m      <a href='vscode-notebook-cell:/d%3A/Important_Tasks/CCS226%20-%20Introduction%20to%20Artificial%20Intelligence/Project_Monika/Finalized_Research/Classification%20of%20Different%20Machine%20Learning%20Algorithms/finalized_code.ipynb#W4sZmlsZQ%3D%3D?line=7'>8</a>\u001b[0m freq \u001b[39m=\u001b[39m {word: words\u001b[39m.\u001b[39mcount(word) \u001b[39mfor\u001b[39;00m word \u001b[39min\u001b[39;00m words}\n\u001b[1;32m----> <a href='vscode-notebook-cell:/d%3A/Important_Tasks/CCS226%20-%20Introduction%20to%20Artificial%20Intelligence/Project_Monika/Finalized_Research/Classification%20of%20Different%20Machine%20Learning%20Algorithms/finalized_code.ipynb#W4sZmlsZQ%3D%3D?line=8'>9</a>\u001b[0m depth \u001b[39m=\u001b[39m {word: \u001b[39mmax\u001b[39;49m([\u001b[39mlen\u001b[39;49m(hyp_path) \u001b[39mfor\u001b[39;49;00m hyp_path \u001b[39min\u001b[39;49;00m wn\u001b[39m.\u001b[39;49msynset(word\u001b[39m+\u001b[39;49m\u001b[39m'\u001b[39;49m\u001b[39m.n.01\u001b[39;49m\u001b[39m'\u001b[39;49m)\u001b[39m.\u001b[39;49mhypernym_paths()]) \u001b[39mfor\u001b[39;49;00m word \u001b[39min\u001b[39;49;00m words}\n\u001b[0;32m     <a href='vscode-notebook-cell:/d%3A/Important_Tasks/CCS226%20-%20Introduction%20to%20Artificial%20Intelligence/Project_Monika/Finalized_Research/Classification%20of%20Different%20Machine%20Learning%20Algorithms/finalized_code.ipynb#W4sZmlsZQ%3D%3D?line=10'>11</a>\u001b[0m \u001b[39m# Calculate scores\u001b[39;00m\n\u001b[0;32m     <a href='vscode-notebook-cell:/d%3A/Important_Tasks/CCS226%20-%20Introduction%20to%20Artificial%20Intelligence/Project_Monika/Finalized_Research/Classification%20of%20Different%20Machine%20Learning%20Algorithms/finalized_code.ipynb#W4sZmlsZQ%3D%3D?line=11'>12</a>\u001b[0m scores \u001b[39m=\u001b[39m {}\n",
      "\u001b[1;32md:\\Important_Tasks\\CCS226 - Introduction to Artificial Intelligence\\Project_Monika\\Finalized_Research\\Classification of Different Machine Learning Algorithms\\finalized_code.ipynb Cell 4\u001b[0m line \u001b[0;36m9\n\u001b[0;32m      <a href='vscode-notebook-cell:/d%3A/Important_Tasks/CCS226%20-%20Introduction%20to%20Artificial%20Intelligence/Project_Monika/Finalized_Research/Classification%20of%20Different%20Machine%20Learning%20Algorithms/finalized_code.ipynb#W4sZmlsZQ%3D%3D?line=6'>7</a>\u001b[0m \u001b[39m# Calculate frequencies and depths\u001b[39;00m\n\u001b[0;32m      <a href='vscode-notebook-cell:/d%3A/Important_Tasks/CCS226%20-%20Introduction%20to%20Artificial%20Intelligence/Project_Monika/Finalized_Research/Classification%20of%20Different%20Machine%20Learning%20Algorithms/finalized_code.ipynb#W4sZmlsZQ%3D%3D?line=7'>8</a>\u001b[0m freq \u001b[39m=\u001b[39m {word: words\u001b[39m.\u001b[39mcount(word) \u001b[39mfor\u001b[39;00m word \u001b[39min\u001b[39;00m words}\n\u001b[1;32m----> <a href='vscode-notebook-cell:/d%3A/Important_Tasks/CCS226%20-%20Introduction%20to%20Artificial%20Intelligence/Project_Monika/Finalized_Research/Classification%20of%20Different%20Machine%20Learning%20Algorithms/finalized_code.ipynb#W4sZmlsZQ%3D%3D?line=8'>9</a>\u001b[0m depth \u001b[39m=\u001b[39m {word: \u001b[39mmax\u001b[39m([\u001b[39mlen\u001b[39m(hyp_path) \u001b[39mfor\u001b[39;00m hyp_path \u001b[39min\u001b[39;00m wn\u001b[39m.\u001b[39;49msynset(word\u001b[39m+\u001b[39m\u001b[39m'\u001b[39m\u001b[39m.n.01\u001b[39m\u001b[39m'\u001b[39m)\u001b[39m.\u001b[39mhypernym_paths()]) \u001b[39mfor\u001b[39;00m word \u001b[39min\u001b[39;00m words}\n\u001b[0;32m     <a href='vscode-notebook-cell:/d%3A/Important_Tasks/CCS226%20-%20Introduction%20to%20Artificial%20Intelligence/Project_Monika/Finalized_Research/Classification%20of%20Different%20Machine%20Learning%20Algorithms/finalized_code.ipynb#W4sZmlsZQ%3D%3D?line=10'>11</a>\u001b[0m \u001b[39m# Calculate scores\u001b[39;00m\n\u001b[0;32m     <a href='vscode-notebook-cell:/d%3A/Important_Tasks/CCS226%20-%20Introduction%20to%20Artificial%20Intelligence/Project_Monika/Finalized_Research/Classification%20of%20Different%20Machine%20Learning%20Algorithms/finalized_code.ipynb#W4sZmlsZQ%3D%3D?line=11'>12</a>\u001b[0m scores \u001b[39m=\u001b[39m {}\n",
      "File \u001b[1;32m~\\AppData\\Roaming\\Python\\Python311\\site-packages\\nltk\\corpus\\util.py:121\u001b[0m, in \u001b[0;36mLazyCorpusLoader.__getattr__\u001b[1;34m(self, attr)\u001b[0m\n\u001b[0;32m    118\u001b[0m \u001b[39mif\u001b[39;00m attr \u001b[39m==\u001b[39m \u001b[39m\"\u001b[39m\u001b[39m__bases__\u001b[39m\u001b[39m\"\u001b[39m:\n\u001b[0;32m    119\u001b[0m     \u001b[39mraise\u001b[39;00m \u001b[39mAttributeError\u001b[39;00m(\u001b[39m\"\u001b[39m\u001b[39mLazyCorpusLoader object has no attribute \u001b[39m\u001b[39m'\u001b[39m\u001b[39m__bases__\u001b[39m\u001b[39m'\u001b[39m\u001b[39m\"\u001b[39m)\n\u001b[1;32m--> 121\u001b[0m \u001b[39mself\u001b[39;49m\u001b[39m.\u001b[39;49m__load()\n\u001b[0;32m    122\u001b[0m \u001b[39m# This looks circular, but its not, since __load() changes our\u001b[39;00m\n\u001b[0;32m    123\u001b[0m \u001b[39m# __class__ to something new:\u001b[39;00m\n\u001b[0;32m    124\u001b[0m \u001b[39mreturn\u001b[39;00m \u001b[39mgetattr\u001b[39m(\u001b[39mself\u001b[39m, attr)\n",
      "File \u001b[1;32m~\\AppData\\Roaming\\Python\\Python311\\site-packages\\nltk\\corpus\\util.py:86\u001b[0m, in \u001b[0;36mLazyCorpusLoader.__load\u001b[1;34m(self)\u001b[0m\n\u001b[0;32m     84\u001b[0m             root \u001b[39m=\u001b[39m nltk\u001b[39m.\u001b[39mdata\u001b[39m.\u001b[39mfind(\u001b[39mf\u001b[39m\u001b[39m\"\u001b[39m\u001b[39m{\u001b[39;00m\u001b[39mself\u001b[39m\u001b[39m.\u001b[39msubdir\u001b[39m}\u001b[39;00m\u001b[39m/\u001b[39m\u001b[39m{\u001b[39;00mzip_name\u001b[39m}\u001b[39;00m\u001b[39m\"\u001b[39m)\n\u001b[0;32m     85\u001b[0m         \u001b[39mexcept\u001b[39;00m \u001b[39mLookupError\u001b[39;00m:\n\u001b[1;32m---> 86\u001b[0m             \u001b[39mraise\u001b[39;00m e\n\u001b[0;32m     88\u001b[0m \u001b[39m# Load the corpus.\u001b[39;00m\n\u001b[0;32m     89\u001b[0m corpus \u001b[39m=\u001b[39m \u001b[39mself\u001b[39m\u001b[39m.\u001b[39m__reader_cls(root, \u001b[39m*\u001b[39m\u001b[39mself\u001b[39m\u001b[39m.\u001b[39m__args, \u001b[39m*\u001b[39m\u001b[39m*\u001b[39m\u001b[39mself\u001b[39m\u001b[39m.\u001b[39m__kwargs)\n",
      "File \u001b[1;32m~\\AppData\\Roaming\\Python\\Python311\\site-packages\\nltk\\corpus\\util.py:81\u001b[0m, in \u001b[0;36mLazyCorpusLoader.__load\u001b[1;34m(self)\u001b[0m\n\u001b[0;32m     79\u001b[0m \u001b[39melse\u001b[39;00m:\n\u001b[0;32m     80\u001b[0m     \u001b[39mtry\u001b[39;00m:\n\u001b[1;32m---> 81\u001b[0m         root \u001b[39m=\u001b[39m nltk\u001b[39m.\u001b[39;49mdata\u001b[39m.\u001b[39;49mfind(\u001b[39mf\u001b[39;49m\u001b[39m\"\u001b[39;49m\u001b[39m{\u001b[39;49;00m\u001b[39mself\u001b[39;49m\u001b[39m.\u001b[39;49msubdir\u001b[39m}\u001b[39;49;00m\u001b[39m/\u001b[39;49m\u001b[39m{\u001b[39;49;00m\u001b[39mself\u001b[39;49m\u001b[39m.\u001b[39;49m__name\u001b[39m}\u001b[39;49;00m\u001b[39m\"\u001b[39;49m)\n\u001b[0;32m     82\u001b[0m     \u001b[39mexcept\u001b[39;00m \u001b[39mLookupError\u001b[39;00m \u001b[39mas\u001b[39;00m e:\n\u001b[0;32m     83\u001b[0m         \u001b[39mtry\u001b[39;00m:\n",
      "File \u001b[1;32m~\\AppData\\Roaming\\Python\\Python311\\site-packages\\nltk\\data.py:583\u001b[0m, in \u001b[0;36mfind\u001b[1;34m(resource_name, paths)\u001b[0m\n\u001b[0;32m    581\u001b[0m sep \u001b[39m=\u001b[39m \u001b[39m\"\u001b[39m\u001b[39m*\u001b[39m\u001b[39m\"\u001b[39m \u001b[39m*\u001b[39m \u001b[39m70\u001b[39m\n\u001b[0;32m    582\u001b[0m resource_not_found \u001b[39m=\u001b[39m \u001b[39mf\u001b[39m\u001b[39m\"\u001b[39m\u001b[39m\\n\u001b[39;00m\u001b[39m{\u001b[39;00msep\u001b[39m}\u001b[39;00m\u001b[39m\\n\u001b[39;00m\u001b[39m{\u001b[39;00mmsg\u001b[39m}\u001b[39;00m\u001b[39m\\n\u001b[39;00m\u001b[39m{\u001b[39;00msep\u001b[39m}\u001b[39;00m\u001b[39m\\n\u001b[39;00m\u001b[39m\"\u001b[39m\n\u001b[1;32m--> 583\u001b[0m \u001b[39mraise\u001b[39;00m \u001b[39mLookupError\u001b[39;00m(resource_not_found)\n",
      "\u001b[1;31mLookupError\u001b[0m: \n**********************************************************************\n  Resource \u001b[93mwordnet\u001b[0m not found.\n  Please use the NLTK Downloader to obtain the resource:\n\n  \u001b[31m>>> import nltk\n  >>> nltk.download('wordnet')\n  \u001b[0m\n  For more information see: https://www.nltk.org/data.html\n\n  Attempted to load \u001b[93mcorpora/wordnet\u001b[0m\n\n  Searched in:\n    - 'C:\\\\Users\\\\sycro/nltk_data'\n    - 'c:\\\\Program Files\\\\Python311\\\\nltk_data'\n    - 'c:\\\\Program Files\\\\Python311\\\\share\\\\nltk_data'\n    - 'c:\\\\Program Files\\\\Python311\\\\lib\\\\nltk_data'\n    - 'C:\\\\Users\\\\sycro\\\\AppData\\\\Roaming\\\\nltk_data'\n    - 'C:\\\\nltk_data'\n    - 'D:\\\\nltk_data'\n    - 'E:\\\\nltk_data'\n**********************************************************************\n"
     ]
    }
   ],
   "source": [
    "from nltk.corpus import wordnet as wn\n",
    "\n",
    "# Load the words from the text file\n",
    "with open('joy.txt', 'r') as f:\n",
    "    words = [line.strip() for line in f]\n",
    "\n",
    "# Calculate frequencies and depths\n",
    "freq = {word: words.count(word) for word in words}\n",
    "# depth = {word: max([len(hyp_path) for hyp_path in wn.synset(word+'.n.01').hypernym_paths()]) for word in words}\n",
    "\n",
    "# Calculate scores\n",
    "scores = {}\n",
    "for word in freq.keys():\n",
    "    scores[word] = freq[word] / depth[word]\n",
    "    for synset in wn.synsets(word):\n",
    "        for hypernym in synset.hypernyms():\n",
    "            if hypernym.name().split('.')[0] not in scores:\n",
    "                scores[hypernym.name().split('.')[0]] = 0\n",
    "            scores[hypernym.name().split('.')[0]] += scores[word]\n",
    "\n",
    "# Find the emotion class\n",
    "emotion_class = max(scores, key=scores.get)\n"
   ]
  }
 ],
 "metadata": {
  "kernelspec": {
   "display_name": "Python 3",
   "language": "python",
   "name": "python3"
  },
  "language_info": {
   "codemirror_mode": {
    "name": "ipython",
    "version": 3
   },
   "file_extension": ".py",
   "mimetype": "text/x-python",
   "name": "python",
   "nbconvert_exporter": "python",
   "pygments_lexer": "ipython3",
   "version": "3.11.4"
  }
 },
 "nbformat": 4,
 "nbformat_minor": 2
}
