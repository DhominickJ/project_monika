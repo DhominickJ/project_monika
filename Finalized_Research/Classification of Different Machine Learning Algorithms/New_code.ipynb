{
 "cells": [
  {
   "cell_type": "code",
   "execution_count": 4,
   "metadata": {},
   "outputs": [
    {
     "ename": "KeyError",
     "evalue": "'The dataset ontology is the building block of a model and helps define the information applied to data to represent the knowledge models that are then trained to inference. (like classes) are the names used for classifying annotations. allow additional independent degrees of freedom to define labels.'",
     "output_type": "error",
     "traceback": [
      "\u001b[1;31m---------------------------------------------------------------------------\u001b[0m",
      "\u001b[1;31mKeyError\u001b[0m                                  Traceback (most recent call last)",
      "\u001b[1;32md:\\Important_Tasks\\CCS226 - Introduction to Artificial Intelligence\\Project_Monika\\Finalized_Research\\Classification of Different Machine Learning Algorithms\\New_code.ipynb Cell 1\u001b[0m line \u001b[0;36m1\n\u001b[0;32m     <a href='vscode-notebook-cell:/d%3A/Important_Tasks/CCS226%20-%20Introduction%20to%20Artificial%20Intelligence/Project_Monika/Finalized_Research/Classification%20of%20Different%20Machine%20Learning%20Algorithms/New_code.ipynb#W0sZmlsZQ%3D%3D?line=11'>12</a>\u001b[0m scores \u001b[39m=\u001b[39m {}\n\u001b[0;32m     <a href='vscode-notebook-cell:/d%3A/Important_Tasks/CCS226%20-%20Introduction%20to%20Artificial%20Intelligence/Project_Monika/Finalized_Research/Classification%20of%20Different%20Machine%20Learning%20Algorithms/New_code.ipynb#W0sZmlsZQ%3D%3D?line=12'>13</a>\u001b[0m \u001b[39mfor\u001b[39;00m word \u001b[39min\u001b[39;00m freq\u001b[39m.\u001b[39mkeys():\n\u001b[1;32m---> <a href='vscode-notebook-cell:/d%3A/Important_Tasks/CCS226%20-%20Introduction%20to%20Artificial%20Intelligence/Project_Monika/Finalized_Research/Classification%20of%20Different%20Machine%20Learning%20Algorithms/New_code.ipynb#W0sZmlsZQ%3D%3D?line=13'>14</a>\u001b[0m     scores[word] \u001b[39m=\u001b[39m freq[word] \u001b[39m/\u001b[39m depth[word]\n\u001b[0;32m     <a href='vscode-notebook-cell:/d%3A/Important_Tasks/CCS226%20-%20Introduction%20to%20Artificial%20Intelligence/Project_Monika/Finalized_Research/Classification%20of%20Different%20Machine%20Learning%20Algorithms/New_code.ipynb#W0sZmlsZQ%3D%3D?line=14'>15</a>\u001b[0m     parents \u001b[39m=\u001b[39m {}\n\u001b[0;32m     <a href='vscode-notebook-cell:/d%3A/Important_Tasks/CCS226%20-%20Introduction%20to%20Artificial%20Intelligence/Project_Monika/Finalized_Research/Classification%20of%20Different%20Machine%20Learning%20Algorithms/New_code.ipynb#W0sZmlsZQ%3D%3D?line=15'>16</a>\u001b[0m     \u001b[39mfor\u001b[39;00m parent \u001b[39min\u001b[39;00m parents[word]:\n",
      "\u001b[1;31mKeyError\u001b[0m: 'The dataset ontology is the building block of a model and helps define the information applied to data to represent the knowledge models that are then trained to inference. (like classes) are the names used for classifying annotations. allow additional independent degrees of freedom to define labels.'"
     ]
    }
   ],
   "source": [
    "# Load the words from the text file\n",
    "with open('example.txt', 'r') as f:\n",
    "    words = [line.strip() for line in f]\n",
    "\n",
    "# Calculate frequencies\n",
    "freq = {word: words.count(word) for word in words}\n",
    "\n",
    "# Assuming depth is a dictionary with words as keys and their depths as values\n",
    "depth = {}\n",
    "\n",
    "# Calculate scores\n",
    "scores = {}\n",
    "for word in freq.keys():\n",
    "    scores[word] = freq[word] / depth[word]\n",
    "    parents = {}\n",
    "    for parent in parents[word]:\n",
    "        if parent not in scores:\n",
    "            scores[parent] = 0\n",
    "        scores[parent] += scores[word]\n",
    "\n",
    "# Find the emotion class\n",
    "emotion_class = max(scores, key=scores.get)\n"
   ]
  }
 ],
 "metadata": {
  "kernelspec": {
   "display_name": "Python 3",
   "language": "python",
   "name": "python3"
  },
  "language_info": {
   "codemirror_mode": {
    "name": "ipython",
    "version": 3
   },
   "file_extension": ".py",
   "mimetype": "text/x-python",
   "name": "python",
   "nbconvert_exporter": "python",
   "pygments_lexer": "ipython3",
   "version": "3.11.4"
  }
 },
 "nbformat": 4,
 "nbformat_minor": 2
}
