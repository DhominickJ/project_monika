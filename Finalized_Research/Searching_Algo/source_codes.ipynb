{
 "cells": [
  {
   "cell_type": "code",
   "execution_count": 46,
   "metadata": {},
   "outputs": [],
   "source": [
    "# def binary_search(list_num , to_search):\n",
    "#     first_index = 0\n",
    "#     size = len(list_num)\n",
    "#     # if size % 2 == 1:\n",
    "#     #     size += 1\n",
    "#     last_index = size - 1\n",
    "#     mid_index = (first_index + last_index) // 2\n",
    "#     mid_element = list_num[mid_index]\n",
    "#     is_found = False\n",
    "#     while not is_found:\n",
    "#         if first_index == last_index:\n",
    "#             if mid_element != to_search:\n",
    "#                 is_found = True\n",
    "#                 return \" Does not appear in the list\"\n",
    "#         elif mid_element == to_search:\n",
    "#             return f\"{mid_element} occurs in position {mid_index}\"\n",
    "#         elif mid_element > to_search:\n",
    "#             new_position = mid_index - 1\n",
    "#             last_index = new_position\n",
    "#             mid_index = (first_index + last_index) // 2\n",
    "#             mid_element = list_num[mid_index]\n",
    "#             if mid_element == to_search:\n",
    "#                 return f\"{mid_element} occurs in position {mid_index}\"\n",
    "#         elif mid_element < to_search:\n",
    "#             new_position = mid_index + 1\n",
    "#             first_index = new_position\n",
    "#             last_index = size - 1\n",
    "#             mid_index = (first_index + last_index) // 2\n",
    "#             mid_element = list_num[mid_index]\n",
    "#             if mid_element == to_search:\n",
    "#                 return f\"{mid_element} occurs in position {mid_index}\"\n"
   ]
  },
  {
   "cell_type": "code",
   "execution_count": 47,
   "metadata": {},
   "outputs": [],
   "source": [
    "def binary_search(list_of_words, target_word):\n",
    "    word_collection = []\n",
    "    letter_number = 0\n",
    "    word_collection.append(list_of_words)\n",
    "    for word in word_collection:\n",
    "        if word == target_word:\n",
    "            return f\"{target_word} occurs in position {letter_number}\"\n",
    "        elif word[letter_number] == target_word[letter_number]:\n",
    "            word_collection.append(word)\n",
    "        else:\n",
    "            word_collection.remove(word)\n",
    "        letter_number += 1"
   ]
  },
  {
   "cell_type": "code",
   "execution_count": 48,
   "metadata": {},
   "outputs": [],
   "source": [
    "def initial_word_filter(word_list, word_to_search):\n",
    "    filtered_word_list = []\n",
    "    initial_word_to_search = word_to_search[0]\n",
    "    for word in word_list:\n",
    "        if word[0] == word_to_search[0]:\n",
    "            filtered_word_list.append(word)\n",
    "    \n",
    "    return filtered_word_list"
   ]
  },
  {
   "cell_type": "code",
   "execution_count": 49,
   "metadata": {},
   "outputs": [],
   "source": [
    "with open('positive-words.txt', 'r') as positive_words:\n",
    "    positive = positive_words.read().split()\n",
    "\n",
    "# print(positive)"
   ]
  },
  {
   "cell_type": "code",
   "execution_count": 50,
   "metadata": {},
   "outputs": [
    {
     "name": "stdout",
     "output_type": "stream",
     "text": [
      "['backbone', 'balanced', 'bargain', 'beauteous', 'beautiful', 'beautifullly', 'beautifully', 'beautify', 'beauty', 'beckon', 'beckoned', 'beckoning', 'beckons', 'believable', 'believeable', 'beloved', 'benefactor', 'beneficent', 'beneficial', 'beneficially', 'beneficiary', 'benefit', 'benefits', 'benevolence', 'benevolent', 'benifits', 'best', 'best-known', 'best-performing', 'best-selling', 'better', 'better-known', 'better-than-expected', 'beutifully', 'blameless', 'bless', 'blessing', 'bliss', 'blissful', 'blissfully', 'blithe', 'blockbuster', 'bloom', 'blossom', 'bolster', 'bonny', 'bonus', 'bonuses', 'boom', 'booming', 'boost', 'boundless', 'bountiful', 'brainiest', 'brainy', 'brand-new', 'brave', 'bravery', 'bravo', 'breakthrough', 'breakthroughs', 'breathlessness', 'breathtaking', 'breathtakingly', 'breeze', 'bright', 'brighten', 'brighter', 'brightest', 'brilliance', 'brilliances', 'brilliant', 'brilliantly', 'brisk', 'brotherly', 'bullish', 'buoyant']\n",
      "77\n",
      "None\n"
     ]
    }
   ],
   "source": [
    "word_list = initial_word_filter(positive, 'bargain')\n",
    "print(word_list)\n",
    "# print(binary_search(word_list, 'benelovent'))\n",
    "print(len(word_list))\n",
    "print(binary_search(word_list, 'bargain'))"
   ]
  }
 ],
 "metadata": {
  "kernelspec": {
   "display_name": "Python 3",
   "language": "python",
   "name": "python3"
  },
  "language_info": {
   "codemirror_mode": {
    "name": "ipython",
    "version": 3
   },
   "file_extension": ".py",
   "mimetype": "text/x-python",
   "name": "python",
   "nbconvert_exporter": "python",
   "pygments_lexer": "ipython3",
   "version": "3.11.4"
  }
 },
 "nbformat": 4,
 "nbformat_minor": 2
}
